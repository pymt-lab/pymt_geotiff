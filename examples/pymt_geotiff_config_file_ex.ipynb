{
 "cells": [
  {
   "cell_type": "markdown",
   "id": "returning-fairy",
   "metadata": {},
   "source": [
    "# Using *pymt_geotiff*: with a configuration file"
   ]
  },
  {
   "cell_type": "markdown",
   "id": "psychological-snapshot",
   "metadata": {},
   "source": [
    "Start by importing the GeoTiff class from `pymt`."
   ]
  },
  {
   "cell_type": "code",
   "execution_count": 1,
   "id": "hollywood-excuse",
   "metadata": {},
   "outputs": [],
   "source": [
    "from pymt.models import GeoTiff"
   ]
  },
  {
   "cell_type": "markdown",
   "id": "developed-appliance",
   "metadata": {},
   "source": [
    "Create an instance."
   ]
  },
  {
   "cell_type": "code",
   "execution_count": 2,
   "id": "604b5ef8",
   "metadata": {},
   "outputs": [],
   "source": [
    "m = GeoTiff()"
   ]
  },
  {
   "cell_type": "markdown",
   "id": "ac302156",
   "metadata": {},
   "source": [
    "In this case, we'll initialize the GeoTiff component with information from a configuration file.\n",
    "View the [sample configuration file](https://github.com/pymt-lab/pymt_geotiff/blob/main/examples/bmi-geotiff.yaml) provided in the repository."
   ]
  },
  {
   "cell_type": "code",
   "execution_count": 3,
   "id": "ad4f8701",
   "metadata": {},
   "outputs": [
    {
     "name": "stdout",
     "output_type": "stream",
     "text": [
      "bmi-geotiff:\r\n",
      "  filename: https://github.com/mapbox/rasterio/raw/master/tests/data/RGB.byte.tif\r\n"
     ]
    }
   ],
   "source": [
    "cat bmi-geotiff.yaml"
   ]
  },
  {
   "cell_type": "markdown",
   "id": "e7380f7b",
   "metadata": {},
   "source": [
    "Initialize the GeoTiff component with the configuration file.\n",
    "(This may take a moment as data are fetched from the internet.)"
   ]
  },
  {
   "cell_type": "code",
   "execution_count": 4,
   "id": "intense-timber",
   "metadata": {},
   "outputs": [
    {
     "name": "stdout",
     "output_type": "stream",
     "text": [
      "*** <xarray.Rectilinear>\n",
      "Dimensions:     (rank: 3)\n",
      "Dimensions without coordinates: rank\n",
      "Data variables:\n",
      "    mesh        int64 0\n",
      "    node_shape  (rank) int32 3 718 791\n"
     ]
    }
   ],
   "source": [
    "m.initialize(\"bmi-geotiff.yaml\")"
   ]
  },
  {
   "cell_type": "markdown",
   "id": "chief-flash",
   "metadata": {},
   "source": [
    "Note that the configurtation information has been read from the configuration file into the component as parameters."
   ]
  },
  {
   "cell_type": "markdown",
   "id": "million-parade",
   "metadata": {},
   "source": [
    "What variables can be accessed from this component?"
   ]
  },
  {
   "cell_type": "code",
   "execution_count": 5,
   "id": "fuzzy-knitting",
   "metadata": {},
   "outputs": [
    {
     "name": "stdout",
     "output_type": "stream",
     "text": [
      "gis__raster_data\n",
      "gis__coordinate_reference_system\n",
      "gis__gdal_geotransform\n"
     ]
    }
   ],
   "source": [
    "for var in m.output_var_names:\n",
    "    print(var)"
   ]
  },
  {
   "cell_type": "markdown",
   "id": "57ff0bee",
   "metadata": {},
   "source": [
    "Get the GDAL GeoTransform used by the data."
   ]
  },
  {
   "cell_type": "code",
   "execution_count": 6,
   "id": "3da0ec3c",
   "metadata": {},
   "outputs": [
    {
     "data": {
      "text/plain": [
       "array([  3.00037927e+02,   0.00000000e+00,   1.01985000e+05,\n",
       "         0.00000000e+00,  -3.00041783e+02,   2.82691500e+06])"
      ]
     },
     "execution_count": 6,
     "metadata": {},
     "output_type": "execute_result"
    }
   ],
   "source": [
    "m.var[\"gis__gdal_geotransform\"].data"
   ]
  },
  {
   "cell_type": "markdown",
   "id": "monetary-motion",
   "metadata": {},
   "source": [
    "What are the units of the transformation?"
   ]
  },
  {
   "cell_type": "code",
   "execution_count": 7,
   "id": "interracial-illinois",
   "metadata": {},
   "outputs": [
    {
     "data": {
      "text/plain": [
       "'m'"
      ]
     },
     "execution_count": 7,
     "metadata": {},
     "output_type": "execute_result"
    }
   ],
   "source": [
    "m.var[\"gis__gdal_geotransform\"].units"
   ]
  },
  {
   "cell_type": "markdown",
   "id": "starting-imaging",
   "metadata": {},
   "source": [
    "Finish by finalizing the component."
   ]
  },
  {
   "cell_type": "code",
   "execution_count": 8,
   "id": "taken-kernel",
   "metadata": {},
   "outputs": [],
   "source": [
    "m.finalize()"
   ]
  }
 ],
 "metadata": {
  "kernelspec": {
   "display_name": "Python 3",
   "language": "python",
   "name": "python3"
  },
  "language_info": {
   "codemirror_mode": {
    "name": "ipython",
    "version": 3
   },
   "file_extension": ".py",
   "mimetype": "text/x-python",
   "name": "python",
   "nbconvert_exporter": "python",
   "pygments_lexer": "ipython3",
   "version": "3.9.2"
  }
 },
 "nbformat": 4,
 "nbformat_minor": 5
}
